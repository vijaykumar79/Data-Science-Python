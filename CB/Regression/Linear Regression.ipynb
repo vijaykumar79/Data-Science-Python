{
 "cells": [
  {
   "cell_type": "code",
   "execution_count": 1,
   "metadata": {},
   "outputs": [],
   "source": [
    "import numpy as np\n",
    "import matplotlib.pyplot as plt\n",
    "from sklearn.datasets import make_regression"
   ]
  },
  {
   "cell_type": "markdown",
   "metadata": {},
   "source": [
    "# Random Regression using Sckit Learn"
   ]
  },
  {
   "cell_type": "code",
   "execution_count": 2,
   "metadata": {},
   "outputs": [
    {
     "name": "stdout",
     "output_type": "stream",
     "text": [
      "(500, 1)\n",
      "(500,)\n"
     ]
    }
   ],
   "source": [
    "X, Y = make_regression(n_samples=500, n_features=1, noise=6.5)\n",
    "print(X.shape)\n",
    "print(Y.shape)"
   ]
  },
  {
   "cell_type": "code",
   "execution_count": 3,
   "metadata": {},
   "outputs": [
    {
     "name": "stdout",
     "output_type": "stream",
     "text": [
      "[[ 0.18938453]\n",
      " [-0.64997118]\n",
      " [ 1.15499822]\n",
      " [ 0.48171717]\n",
      " [-0.77450339]]\n"
     ]
    }
   ],
   "source": [
    "print(X[:5,:])"
   ]
  },
  {
   "cell_type": "code",
   "execution_count": 4,
   "metadata": {},
   "outputs": [
    {
     "name": "stdout",
     "output_type": "stream",
     "text": [
      "[ 20.54198331 -56.01850641 105.71960491  46.59401835 -99.06816709]\n"
     ]
    }
   ],
   "source": [
    "print(Y[:5])"
   ]
  },
  {
   "cell_type": "code",
   "execution_count": 5,
   "metadata": {},
   "outputs": [
    {
     "data": {
      "image/png": "[encoded data removed]",
      "text/plain": [
       "<Figure size 432x288 with 1 Axes>"
      ]
     },
     "metadata": {},
     "output_type": "display_data"
    }
   ],
   "source": [
    "plt.scatter(X,Y)\n",
    "plt.show()"
   ]
  },
  {
   "cell_type": "code",
   "execution_count": 6,
   "metadata": {},
   "outputs": [
    {
     "name": "stdout",
     "output_type": "stream",
     "text": [
      "400\n"
     ]
    }
   ],
   "source": [
    "split= int(0.8*X.shape[0]) # 0.8*500 = 400\n",
    "print(split)"
   ]
  },
  {
   "cell_type": "code",
   "execution_count": 7,
   "metadata": {},
   "outputs": [],
   "source": [
    "# Get Test and Train data, 80% for train and rest 20% for test\n",
    "X_train = X[:split]\n",
    "X_test = X[split:]\n",
    "Y_train= Y[:split]\n",
    "Y_test= Y[split:]"
   ]
  },
  {
   "cell_type": "markdown",
   "metadata": {},
   "source": [
    "# Gradient Descent Algorithm\n",
    "To minmise the error or parameter for low cost function we perform Gradient Descent algo\n",
    "    1. Start with a random theta\n",
    "    2. Repeat until converge\n",
    "        i. Update Theta according to the rule       "
   ]
  },
  {
   "cell_type": "code",
   "execution_count": 40,
   "metadata": {},
   "outputs": [],
   "source": [
    "# Helper functions\n",
    "\n",
    "# linear Regrassion equation\n",
    "def hypothesis (x, theta):\n",
    "    ''' hypothesis line equation function for yh predicted and theta is m and c \"yh=mx+c\" '''\n",
    "    return (theta[0] + theta[1]*x)\n",
    "\n",
    "# Loss or Cost L2 (MSE or LSE) function () for optimizing our weights (m,c or theta[0], theta[1])\n",
    "def loss_function(X,Y,theta):\n",
    "    m = X.shape[0]\n",
    "    error = 0\n",
    "    for i in range(m):\n",
    "        yh= hypothesis(X[i],theta)\n",
    "        error += (yh-Y[i])**2\n",
    "    mean_sq_error = error/m\n",
    "    return mean_sq_error\n",
    "\n",
    "#Gradient of linear equation means partial derivative wrt theta[1] i.e \"m\" and theta[1] i.e \"c\"\n",
    "# https://ml-cheatsheet.readthedocs.io/en/latest/gradient_descent.html\n",
    "def gradient(X,Y,theta):\n",
    "    m= X.shape[0]\n",
    "    grad = np.zeros((2,))\n",
    "    for i in range(m):\n",
    "        yh= hypothesis(X[i], theta)\n",
    "        grad[0] += 2*(yh - Y[i])\n",
    "        grad[1] += 2*(yh- Y[i])*X[i]\n",
    "    grad[0] = grad[0]/m\n",
    "    grad[1] = grad[1]/m\n",
    "    return grad\n",
    "\n",
    "#To minimize MSE we use Gradient Descent to calculate the gradient of our cost function.\n",
    "def gradient_descent(X,Y,max_itr=30,lr=0.1):\n",
    "    theta = np.array([0.0,0.0]) # random theta\n",
    "    itr=0\n",
    "    mse_list = []\n",
    "    theta_list = []\n",
    "    while itr <= max_itr:\n",
    "        grad= gradient(X,Y,theta)\n",
    "        mse = loss_function(X,Y,theta)\n",
    "        mse_list.append(mse)\n",
    "        theta_list.append((theta[0], theta[1]))\n",
    "        theta[0] = theta[0] - grad[0]*lr\n",
    "        theta[1] = theta[1] - grad[1]*lr\n",
    "        itr += 1\n",
    "    return theta, mse_list"
   ]
  },
  {
   "cell_type": "code",
   "execution_count": 41,
   "metadata": {},
   "outputs": [],
   "source": [
    "final_theta, mse_list = gradient_descent(X_train,Y_train)"
   ]
  },
  {
   "cell_type": "code",
   "execution_count": 42,
   "metadata": {},
   "outputs": [
    {
     "data": {
      "text/plain": [
       "array([ 0.27416958, 94.6799055 ])"
      ]
     },
     "execution_count": 42,
     "metadata": {},
     "output_type": "execute_result"
    }
   ],
   "source": [
    "final_theta"
   ]
  },
  {
   "cell_type": "code",
   "execution_count": 43,
   "metadata": {},
   "outputs": [
    {
     "data": {
      "image/png": "[encoded data removed]",
      "text/plain": [
       "<Figure size 432x288 with 1 Axes>"
      ]
     },
     "metadata": {},
     "output_type": "display_data"
    }
   ],
   "source": [
    "plt.plot(mse_list)\n",
    "plt.show()"
   ]
  },
  {
   "cell_type": "code",
   "execution_count": 44,
   "metadata": {},
   "outputs": [
    {
     "data": {
      "text/plain": [
       "43.328116967346695"
      ]
     },
     "execution_count": 44,
     "metadata": {},
     "output_type": "execute_result"
    }
   ],
   "source": [
    "np.min(mse_list)"
   ]
  },
  {
   "cell_type": "code",
   "execution_count": 45,
   "metadata": {},
   "outputs": [
    {
     "data": {
      "text/plain": [
       "7838.947067333464"
      ]
     },
     "execution_count": 45,
     "metadata": {},
     "output_type": "execute_result"
    }
   ],
   "source": [
    "np.max(mse_list)"
   ]
  },
  {
   "cell_type": "code",
   "execution_count": 54,
   "metadata": {},
   "outputs": [
    {
     "data": {
      "image/png": "[encoded data removed]",
      "text/plain": [
       "<Figure size 432x288 with 1 Axes>"
      ]
     },
     "metadata": {},
     "output_type": "display_data"
    }
   ],
   "source": [
    "plt.scatter(X,Y)\n",
    "Yp= hypothesis(X_test, final_theta)\n",
    "plt.plot(X_test,Yp,color='red')\n",
    "#plt.plot(X_test,Y_test, color='orange')\n",
    "plt.show()"
   ]
  },
  {
   "cell_type": "code",
   "execution_count": 55,
   "metadata": {},
   "outputs": [
    {
     "data": {
      "text/plain": [
       "array([229.31533899])"
      ]
     },
     "execution_count": 55,
     "metadata": {},
     "output_type": "execute_result"
    }
   ],
   "source": [
    "Yp[1]"
   ]
  },
  {
   "cell_type": "code",
   "execution_count": 58,
   "metadata": {},
   "outputs": [
    {
     "name": "stdout",
     "output_type": "stream",
     "text": [
      "[0.21086697]\n",
      "24.87968820660331\n"
     ]
    }
   ],
   "source": [
    "print(X_test[3])\n",
    "print(Y_test[3])"
   ]
  },
  {
   "cell_type": "code",
   "execution_count": 59,
   "metadata": {},
   "outputs": [
    {
     "name": "stdout",
     "output_type": "stream",
     "text": [
      "[20.23903444]\n"
     ]
    }
   ],
   "source": [
    "yp= hypothesis(X_test[3],final_theta)\n",
    "print(yp)"
   ]
  },
  {
   "cell_type": "code",
   "execution_count": null,
   "metadata": {},
   "outputs": [],
   "source": []
  }
 ],
 "metadata": {
  "kernelspec": {
   "display_name": "Python 3",
   "language": "python",
   "name": "python3"
  },
  "language_info": {
   "codemirror_mode": {
    "name": "ipython",
    "version": 3
   },
   "file_extension": ".py",
   "mimetype": "text/x-python",
   "name": "python",
   "nbconvert_exporter": "python",
   "pygments_lexer": "ipython3",
   "version": "3.6.5"
  }
 },
 "nbformat": 4,
 "nbformat_minor": 2
}
