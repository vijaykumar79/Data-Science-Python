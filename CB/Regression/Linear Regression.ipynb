{
 "cells": [
  {
   "cell_type": "code",
   "execution_count": 35,
   "metadata": {},
   "outputs": [],
   "source": [
    "import numpy as np\n",
    "import matplotlib.pyplot as plt\n",
    "from sklearn.datasets import make_regression"
   ]
  },
  {
   "cell_type": "markdown",
   "metadata": {},
   "source": [
    "# Random Regression using Sckit Learn"
   ]
  },
  {
   "cell_type": "code",
   "execution_count": 36,
   "metadata": {},
   "outputs": [
    {
     "name": "stdout",
     "output_type": "stream",
     "text": [
      "(500, 1)\n",
      "(500,)\n"
     ]
    }
   ],
   "source": [
    "X, Y = make_regression(n_samples=500, n_features=1, noise=6.5)\n",
    "print(X.shape)\n",
    "print(Y.shape)"
   ]
  },
  {
   "cell_type": "code",
   "execution_count": 37,
   "metadata": {},
   "outputs": [
    {
     "name": "stdout",
     "output_type": "stream",
     "text": [
      "[[-0.63311049]\n",
      " [-0.16048794]\n",
      " [-1.36921744]\n",
      " [-0.27252414]\n",
      " [-0.34012289]]\n"
     ]
    }
   ],
   "source": [
    "print(X[:5,:])"
   ]
  },
  {
   "cell_type": "code",
   "execution_count": 38,
   "metadata": {},
   "outputs": [
    {
     "name": "stdout",
     "output_type": "stream",
     "text": [
      "[-19.37952926 -19.7587892  -46.29838287  -0.20756584  -9.55455294]\n"
     ]
    }
   ],
   "source": [
    "print(Y[:5])"
   ]
  },
  {
   "cell_type": "code",
   "execution_count": 39,
   "metadata": {},
   "outputs": [
    {
     "data": {
      "image/png": "[encoded data removed]",
      "text/plain": [
       "<Figure size 432x288 with 1 Axes>"
      ]
     },
     "metadata": {},
     "output_type": "display_data"
    }
   ],
   "source": [
    "plt.scatter(X,Y)\n",
    "plt.show()"
   ]
  },
  {
   "cell_type": "code",
   "execution_count": 40,
   "metadata": {},
   "outputs": [
    {
     "name": "stdout",
     "output_type": "stream",
     "text": [
      "400\n"
     ]
    }
   ],
   "source": [
    "split= int(0.8*X.shape[0]) # 0.8*500 = 400\n",
    "print(split)"
   ]
  },
  {
   "cell_type": "code",
   "execution_count": 41,
   "metadata": {},
   "outputs": [],
   "source": [
    "# Get Test and Train data, 80% for train and rest 20% for test\n",
    "X_train = X[:split]\n",
    "X_test = X[split:]\n",
    "Y_train= Y[:split]\n",
    "Y_test= Y[split:]"
   ]
  },
  {
   "cell_type": "markdown",
   "metadata": {},
   "source": [
    "# Gradient Descent Algorithm\n",
    "To minmise the error or parameter for low cost function we perform Gradient Descent algo\n",
    "    1. Start with a random theta\n",
    "    2. Repeat until converge\n",
    "        i. Update Theta according to the rule       "
   ]
  },
  {
   "cell_type": "code",
   "execution_count": 45,
   "metadata": {},
   "outputs": [],
   "source": [
    "class LinearRegression:\n",
    "    \n",
    "    def __init__(self, X_train, Y_train, epoch=100, lr=0.1):\n",
    "        self.X_train = X_train\n",
    "        self.Y_train = Y_train\n",
    "        self.theta= np.zeros((2))\n",
    "        self.epoch = epoch\n",
    "        self.lr = lr\n",
    "        self.mse_list= []\n",
    "        \n",
    "    \n",
    "    # Helper functions\n",
    "    # linear Regrassion equation\n",
    "    def hypothesis (self, x):\n",
    "        ''' hypothesis line equation function for yh predicted and theta is m and c \"yh=mx+c\" '''\n",
    "        return (self.theta[0] + self.theta[1]*x)\n",
    "\n",
    "    # Loss or Cost L2 (MSE or LSE) function () for optimizing our weights (m,c or theta[0], theta[1])\n",
    "    def cost_function(self):\n",
    "        m = self.X_train.shape[0]\n",
    "        error = 0\n",
    "        for i in range(m):\n",
    "            yh= hypothesis(self.X_train[i],self.theta)\n",
    "            error += (yh-self.Y_train[i])**2\n",
    "        mean_sq_error = error/2*m\n",
    "        return mean_sq_error\n",
    "\n",
    "    #Gradient of linear equation means partial derivative wrt theta[1] i.e \"m\" and theta[1] i.e \"c\"\n",
    "    # https://ml-cheatsheet.readthedocs.io/en/latest/gradient_descent.html\n",
    "    def gradient(self):\n",
    "        m= self.X_train.shape[0]\n",
    "        grad = np.zeros((2,))\n",
    "        for i in range(m):\n",
    "            yh= hypothesis(self.X_train[i], self.theta)\n",
    "            grad[0] += (yh - self.Y_train[i])\n",
    "            grad[1] += (yh- self.Y_train[i])*self.X_train[i]\n",
    "        grad[0] = grad[0]/m\n",
    "        grad[1] = grad[1]/m\n",
    "        return grad\n",
    "\n",
    "    #To minimize MSE we use Gradient Descent to calculate the gradient of our cost function.\n",
    "    def gradient_descent(self):\n",
    "        #theta = np.array([0.0,0.0]) # random theta\n",
    "        itr=0\n",
    "        #mse_list = []\n",
    "        theta_list = []\n",
    "        while itr <= self.epoch:\n",
    "            grad= gradient(self.X_train,self.Y_train,self.theta)\n",
    "            mse = cost_function(self.X_train,self.Y_train,self.theta)\n",
    "            self.mse_list.append(mse)\n",
    "            theta_list.append((self.theta[0], self.theta[1]))\n",
    "            self.theta[0] = self.theta[0] - grad[0]*self.lr\n",
    "            self.theta[1] = self.theta[1] - grad[1]*self.lr\n",
    "            itr += 1\n",
    "        return self.theta, self.mse_list\n",
    "    \n",
    "    def fit(self):\n",
    "        for _ in range (self.epoch):\n",
    "            self.gradient_descent()"
   ]
  },
  {
   "cell_type": "code",
   "execution_count": 52,
   "metadata": {},
   "outputs": [],
   "source": [
    "model = LinearRegression(X_train, Y_train, epoch=10, lr=0.1)\n",
    "model.fit()"
   ]
  },
  {
   "cell_type": "code",
   "execution_count": 57,
   "metadata": {},
   "outputs": [
    {
     "data": {
      "text/plain": [
       "array([2.75655163e-02, 3.63941794e+01])"
      ]
     },
     "execution_count": 57,
     "metadata": {},
     "output_type": "execute_result"
    }
   ],
   "source": [
    "model.theta"
   ]
  },
  {
   "cell_type": "code",
   "execution_count": 53,
   "metadata": {},
   "outputs": [
    {
     "data": {
      "image/png": "[encoded data removed]",
      "text/plain": [
       "<Figure size 432x288 with 1 Axes>"
      ]
     },
     "metadata": {},
     "output_type": "display_data"
    }
   ],
   "source": [
    "plt.plot(model.mse_list)\n",
    "plt.show()"
   ]
  },
  {
   "cell_type": "code",
   "execution_count": 56,
   "metadata": {},
   "outputs": [
    {
     "data": {
      "text/plain": [
       "3354323.545125202"
      ]
     },
     "execution_count": 56,
     "metadata": {},
     "output_type": "execute_result"
    }
   ],
   "source": [
    "np.min(model.mse_list)"
   ]
  },
  {
   "cell_type": "code",
   "execution_count": 55,
   "metadata": {},
   "outputs": [
    {
     "data": {
      "text/plain": [
       "116184439.01691648"
      ]
     },
     "execution_count": 55,
     "metadata": {},
     "output_type": "execute_result"
    }
   ],
   "source": [
    "np.max(model.mse_list)"
   ]
  },
  {
   "cell_type": "code",
   "execution_count": 54,
   "metadata": {},
   "outputs": [
    {
     "data": {
      "image/png": "[encoded data removed]",
      "text/plain": [
       "<Figure size 432x288 with 1 Axes>"
      ]
     },
     "metadata": {},
     "output_type": "display_data"
    }
   ],
   "source": [
    "plt.scatter(X,Y)\n",
    "Yp= hypothesis(X_test, model.theta)\n",
    "plt.plot(X_test,Yp,color='red')\n",
    "#plt.plot(X_test,Y_test, color='orange')\n",
    "plt.show()"
   ]
  },
  {
   "cell_type": "code",
   "execution_count": 58,
   "metadata": {},
   "outputs": [
    {
     "data": {
      "text/plain": [
       "array([49.3805376])"
      ]
     },
     "execution_count": 58,
     "metadata": {},
     "output_type": "execute_result"
    }
   ],
   "source": [
    "Yp[1]"
   ]
  },
  {
   "cell_type": "code",
   "execution_count": 59,
   "metadata": {},
   "outputs": [
    {
     "name": "stdout",
     "output_type": "stream",
     "text": [
      "[0.91488529]\n",
      "34.33677081314383\n"
     ]
    }
   ],
   "source": [
    "print(X_test[3])\n",
    "print(Y_test[3])"
   ]
  },
  {
   "cell_type": "code",
   "execution_count": 60,
   "metadata": {},
   "outputs": [
    {
     "name": "stdout",
     "output_type": "stream",
     "text": [
      "[33.32406504]\n"
     ]
    }
   ],
   "source": [
    "yp= hypothesis(X_test[3],model.theta)\n",
    "print(yp)"
   ]
  },
  {
   "cell_type": "code",
   "execution_count": null,
   "metadata": {},
   "outputs": [],
   "source": []
  }
 ],
 "metadata": {
  "kernelspec": {
   "display_name": "Python 3",
   "language": "python",
   "name": "python3"
  },
  "language_info": {
   "codemirror_mode": {
    "name": "ipython",
    "version": 3
   },
   "file_extension": ".py",
   "mimetype": "text/x-python",
   "name": "python",
   "nbconvert_exporter": "python",
   "pygments_lexer": "ipython3",
   "version": "3.6.5"
  }
 },
 "nbformat": 4,
 "nbformat_minor": 2
}
